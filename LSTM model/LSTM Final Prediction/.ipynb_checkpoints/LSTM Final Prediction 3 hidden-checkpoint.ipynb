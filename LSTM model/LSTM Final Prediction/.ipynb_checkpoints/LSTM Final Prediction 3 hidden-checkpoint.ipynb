{
 "cells": [
  {
   "cell_type": "code",
   "execution_count": 10,
   "metadata": {},
   "outputs": [],
   "source": [
    "import torch \n",
    "import torch.nn as nn\n",
    "from torch.nn import functional as F\n",
    "from torch.utils.data import Dataset, DataLoader\n",
    "\n",
    "from torch.utils.tensorboard import SummaryWriter\n",
    "writer = SummaryWriter()\n",
    "\n",
    "import pandas as pd\n",
    "import numpy as np\n",
    "import matplotlib.pyplot as plt\n",
    "plt.rcParams['figure.dpi']= 100\n",
    "import seaborn as sns\n",
    "sns.set(style=\"whitegrid\")"
   ]
  },
  {
   "cell_type": "code",
   "execution_count": 11,
   "metadata": {},
   "outputs": [],
   "source": [
    "#hyperparameters\n",
    "\n",
    "batch_size = 64\n",
    "\n",
    "seq_len = 31\n",
    "\n",
    "input_size = 7\n",
    "lstm_hidden_size = 84\n",
    "linear_hidden_size_1 = 109\n",
    "linear_hidden_size_2 = 100\n",
    "linear_hidden_size_3 = 36\n",
    "output_size = 6\n",
    "\n",
    "dropout_1 = 0.444263\n",
    "dropout_2 = 0.246685\n",
    "dropout_3 = 0.200149\n",
    "\n",
    "learning_rate = 0.002635\n",
    "num_epochs = 500\n",
    "\n",
    "seed = 1504062\n",
    "#seed = np.random.randint(10000000, size=1).item() #random seed"
   ]
  },
  {
   "cell_type": "code",
   "execution_count": 12,
   "metadata": {},
   "outputs": [
    {
     "name": "stdout",
     "output_type": "stream",
     "text": [
      "shape of the datset array: (2184, 13)\n",
      "sequenced X array shape: (2152, 31, 7)\n",
      "y array shape: (2152, 6)\n",
      "null values in dataset?: False\n"
     ]
    }
   ],
   "source": [
    "####################################################\n",
    "#dataset import and sequencing\n",
    "####################################################\n",
    "\n",
    "#data importing\n",
    "df = pd.read_excel('ALL VAR cleaned.xlsx')\n",
    "df.Date = pd.to_datetime(df.Date, format = '%m/%d/%Y')\n",
    "df = df.set_index('Date')\n",
    "\n",
    "#data scaling\n",
    "df_scaled = (df - df.mean())/ df.std()\n",
    "#print(df_scaled.head())\n",
    "\n",
    "#storing mean and std\n",
    "df_np_mean = df.mean().to_numpy()\n",
    "df_np_std = df.std().to_numpy()\n",
    "\n",
    "#dropping date column\n",
    "df_scaled.reset_index(inplace = True)\n",
    "df_scaled = df_scaled.drop('Date', 1)\n",
    "\n",
    "#creating sequences\n",
    "def split_sequences(sequences, n_steps):\n",
    "    X, y = list(), list()\n",
    "    for i in range(len(sequences)):\n",
    "        # find the end of this pattern\n",
    "        end_ix = i + n_steps\n",
    "        # check if we are beyond the dataset\n",
    "        if end_ix +1 >= len(sequences): break\n",
    "        # gather input and output parts of the pattern\n",
    "        seq_x, seq_y = sequences[i:end_ix, 0:7], sequences[end_ix + 1, 7:14]\n",
    "        X.append(seq_x)\n",
    "        y.append(seq_y)\n",
    "    return X, y\n",
    "\n",
    "array = df_scaled.iloc[:, :].values\n",
    "print ('shape of the datset array: {}'.format(array.shape))\n",
    "X, y = split_sequences(array, seq_len)\n",
    "X_array = np.array(X, dtype = np.float32)\n",
    "y_array = np.array(y)\n",
    "print('sequenced X array shape: {}'.format(X_array.shape))\n",
    "print('y array shape: {}'.format(y_array.shape))\n",
    "print('null values in dataset?: {}'.format(df_scaled.isnull().values.any()))"
   ]
  },
  {
   "cell_type": "code",
   "execution_count": 13,
   "metadata": {
    "scrolled": true
   },
   "outputs": [
    {
     "name": "stdout",
     "output_type": "stream",
     "text": [
      "masked output array shape: (2152, 6)\n"
     ]
    }
   ],
   "source": [
    "####################################################\n",
    "#output mask preparation\n",
    "####################################################\n",
    "\n",
    "\n",
    "#import output masked data\n",
    "df_mask = pd.read_excel('COMBINED CAMS MASK.xlsx')\n",
    "#print(df_mask.head())\n",
    "\n",
    "mask_array = df_mask.iloc[:, :].values\n",
    "#print(mask_array.shape)\n",
    "\n",
    "#sequencing\n",
    "def mask_sequence(sequence, n_steps):\n",
    "    y = list()\n",
    "    for i in range(len(sequence)):\n",
    "        # find the end of this pattern\n",
    "        end_iy = i + n_steps\n",
    "        # check if we are beyond the dataset\n",
    "        if end_iy + 1 >= len(sequence): break\n",
    "        # gather input and output parts of the pattern\n",
    "        seq_y = sequence[end_iy + 1, 0:6]\n",
    "        y.append(seq_y)\n",
    "    return y\n",
    "\n",
    "mask_list = mask_sequence(mask_array, seq_len)\n",
    "mask_array = np.array(mask_list)\n",
    "print('masked output array shape: {}'.format(mask_array.shape))"
   ]
  },
  {
   "cell_type": "code",
   "execution_count": 14,
   "metadata": {},
   "outputs": [],
   "source": [
    "####################################################\n",
    "#creating dataset and subsets\n",
    "####################################################\n",
    "\n",
    "#creating dataset\n",
    "class AirMeteoroDataset(Dataset):\n",
    "    def __init__(self):\n",
    "        self.len = X_array.shape[0]\n",
    "        self.data_id = torch.arange(0,len(X_array),1)\n",
    "        self.X_data = torch.from_numpy(X_array)\n",
    "        self.y_data = torch.from_numpy(y_array)\n",
    "        self.y_mask = torch.from_numpy(mask_array)\n",
    "\n",
    "    def __getitem__(self, index):\n",
    "        return self.data_id[index], self.X_data[index], self.y_data[index], self.y_mask[index]\n",
    "\n",
    "    def __len__(self):\n",
    "        return self.len\n",
    "    \n",
    "dataset = AirMeteoroDataset()\n",
    "\n",
    "\n",
    "#test train split\n",
    "seed = 1504062\n",
    "train_size = round(len(X_array) * 0.85)\n",
    "test_size = len(X_array) - train_size\n",
    "train_set, test_set = torch.utils.data.random_split(dataset,\n",
    "                                                    [train_size, test_size], \n",
    "                                                    generator = torch.Generator().manual_seed(seed))"
   ]
  },
  {
   "cell_type": "code",
   "execution_count": 15,
   "metadata": {},
   "outputs": [],
   "source": [
    "####################################################\n",
    "#making mini-batches using dataloader\n",
    "####################################################\n",
    "\n",
    "train_loader = DataLoader(dataset = train_set,\n",
    "                          batch_size = batch_size,\n",
    "                          drop_last = True,\n",
    "                          shuffle = True)\n",
    "\n",
    "test_loader = DataLoader(dataset = test_set,\n",
    "                          batch_size = batch_size,\n",
    "                          drop_last = True,\n",
    "                          shuffle = True)"
   ]
  },
  {
   "cell_type": "code",
   "execution_count": 9,
   "metadata": {},
   "outputs": [],
   "source": [
    "#for i, (X_data, y_data, y_mask) in enumerate(train_loader):\n",
    "    #print(X_data)\n",
    "    #break"
   ]
  },
  {
   "cell_type": "code",
   "execution_count": 16,
   "metadata": {},
   "outputs": [],
   "source": [
    "####################################################\n",
    "#model building\n",
    "####################################################\n",
    "\n",
    "class Model(nn.Module):\n",
    "    def __init__(self, \n",
    "                 input_size, \n",
    "                 lstm_hidden_size, \n",
    "                 linear_hidden_size_1, \n",
    "                 linear_hidden_size_2, \n",
    "                 linear_hidden_size_3,\n",
    "                 output_size, \n",
    "                 dropout_1,\n",
    "                 dropout_2,\n",
    "                 dropout_3):\n",
    "        super(Model, self).__init__()\n",
    "        self.input_size = input_size\n",
    "        self.lstm_hidden_size = lstm_hidden_size\n",
    "        self.linear_hidden_size_1 = linear_hidden_size_1\n",
    "        self.linear_hidden_size_2 = linear_hidden_size_2\n",
    "        self.linear_hidden_size_3 = linear_hidden_size_3\n",
    "        self.output_size = output_size\n",
    "        \n",
    "        self.batchnorm1 = nn.BatchNorm1d(num_features = linear_hidden_size_1)\n",
    "        self.batchnorm2 = nn.BatchNorm1d(num_features = linear_hidden_size_2)\n",
    "        self.batchnorm3 = nn.BatchNorm1d(num_features = linear_hidden_size_3)\n",
    "\n",
    "        \n",
    "        self.relu = nn.ReLU()\n",
    "        \n",
    "        self.dropout_1 = nn.Dropout(p = dropout_1)\n",
    "        self.dropout_2 = nn.Dropout(p = dropout_2)\n",
    "        self.dropout_3 = nn.Dropout(p = dropout_3)\n",
    "        \n",
    "        self.lstm = nn.LSTM(\n",
    "            input_size = self.input_size,\n",
    "            hidden_size = self.lstm_hidden_size,\n",
    "            batch_first = True)\n",
    "        \n",
    "        self.linear_1 = nn.Linear(self.lstm_hidden_size, self.linear_hidden_size_1)\n",
    "        self.linear_2 = nn.Linear(self.linear_hidden_size_1, self.linear_hidden_size_2)\n",
    "        self.linear_3 = nn.Linear(self.linear_hidden_size_2, self.output_size)\n",
    "    \n",
    "        \n",
    "    def forward(self, sequences):\n",
    "        lstm_out, _ = self.lstm(sequences)\n",
    "        \n",
    "        z1 = self.linear_1(lstm_out[:, -1, :])\n",
    "        a1 = self.dropout_linear(self.relu(self.batchnorm1(z1)))\n",
    "        \n",
    "        z2 = self.linear_2(a1)\n",
    "        a2 = self.dropout_linear(self.relu(self.batchnorm2(z2)))\n",
    "        \n",
    "        y_pred = self.linear_3(a2)\n",
    "        return y_pred"
   ]
  },
  {
   "cell_type": "code",
   "execution_count": 17,
   "metadata": {},
   "outputs": [],
   "source": [
    "class modsmoothl1(nn.SmoothL1Loss):\n",
    "    def __init__(self, size_average=None, reduce=None, reduction = 'none'):\n",
    "        super(modsmoothl1, self).__init__(size_average, reduce, reduction)\n",
    "        \n",
    "    def forward(self, observed, predicted, mask):\n",
    "        predicted_masked = mask*predicted\n",
    "        loss = F.smooth_l1_loss(observed, predicted_masked, reduction=self.reduction)\n",
    "        avg_loss = torch.sum(loss)/torch.sum(mask)\n",
    "        return avg_loss"
   ]
  },
  {
   "cell_type": "code",
   "execution_count": 18,
   "metadata": {},
   "outputs": [],
   "source": [
    "forecast_model = Model(input_size,\n",
    "                   lstm_hidden_size,\n",
    "                   linear_hidden_size_1,\n",
    "                   linear_hidden_size_2,\n",
    "                   linear_hidden_size_3,\n",
    "                   output_size,\n",
    "                   dropout_1,\n",
    "                   dropout_2,\n",
    "                   dropout_3,).cuda().float()\n",
    "\n",
    "criterion = modsmoothl1()\n",
    "optimizer = torch.optim.RMSprop(forecast_model.parameters(), lr = learning_rate)"
   ]
  },
  {
   "cell_type": "code",
   "execution_count": 13,
   "metadata": {},
   "outputs": [
    {
     "name": "stdout",
     "output_type": "stream",
     "text": [
      "Train loss after Epoch [500/5000]: 0.275113, Val loss: 0.249438\n",
      "Train loss after Epoch [1000/5000]: 0.266435, Val loss: 0.250788\n",
      "Train loss after Epoch [1500/5000]: 0.266795, Val loss: 0.250846\n",
      "Train loss after Epoch [2000/5000]: 0.259789, Val loss: 0.242612\n",
      "Train loss after Epoch [2500/5000]: 0.261240, Val loss: 0.251078\n",
      "Train loss after Epoch [3000/5000]: 0.258307, Val loss: 0.252904\n",
      "Train loss after Epoch [3500/5000]: 0.256158, Val loss: 0.249311\n",
      "Train loss after Epoch [4000/5000]: 0.259491, Val loss: 0.246279\n",
      "Train loss after Epoch [4500/5000]: 0.257651, Val loss: 0.254261\n",
      "Train loss after Epoch [5000/5000]: 0.255776, Val loss: 0.252608\n"
     ]
    }
   ],
   "source": [
    "####################################################\n",
    "#model training and validation\n",
    "####################################################\n",
    "\n",
    "all_train_loss = []\n",
    "all_val_loss = []\n",
    "total_iter = 0\n",
    "\n",
    "\n",
    "for epoch in range(num_epochs):\n",
    "    forecast_model.train()\n",
    "    epoch_total_loss = 0.0\n",
    "    \n",
    "    for i, (data_id,X_data, y_data, y_mask) in enumerate(train_loader):    \n",
    "        optimizer.zero_grad()\n",
    "\n",
    "        X_data = X_data.cuda().float()\n",
    "        y_data = y_data.cuda().float()\n",
    "        y_mask = y_mask.cuda().float()\n",
    "        \n",
    "        y_pred = forecast_model(X_data)\n",
    "        loss = criterion(y_data, y_pred, y_mask)\n",
    "        \n",
    "        total_iter += 1\n",
    "        writer.add_scalar(\"Loss/train\", loss, total_iter)\n",
    "        \n",
    "        loss.backward()\n",
    "        optimizer.step()\n",
    "        \n",
    "        epoch_total_loss = epoch_total_loss + loss.item()\n",
    "    \n",
    "    epoch_avg_loss = epoch_total_loss/len(train_loader)\n",
    "        \n",
    "    if (epoch +1) % round(num_epochs/10) == 0:\n",
    "        print (f'Train loss after Epoch [{epoch+1}/{num_epochs}]: {epoch_avg_loss:.6f}, Val loss: {epoch_avg_val_loss:.6f}')\n",
    "    \n",
    "    all_train_loss.append(epoch_avg_loss)\n",
    "    \n",
    "    #validation\n",
    "    forecast_model.eval()   \n",
    "    with torch.no_grad():\n",
    "        epoch_total_val_loss = 0.0\n",
    "        for i, (data_id, X_val, y_val, y_mask_val) in enumerate(val_loader):\n",
    "            X_val = X_val.cuda().float()\n",
    "            y_val = y_val.cuda().float()\n",
    "            y_mask_val = y_mask_val.cuda().float()        \n",
    "            \n",
    "            val_pred = forecast_model(X_val).cuda()\n",
    "            val_loss = criterion(y_val, val_pred, y_mask_val)\n",
    "            epoch_total_val_loss = epoch_total_val_loss + val_loss.item()\n",
    "                \n",
    "        \n",
    "    epoch_avg_val_loss = epoch_total_val_loss/len(val_loader)\n",
    "    all_val_loss.append(epoch_avg_val_loss)\n",
    "    writer.add_scalar(\"Loss/Validation\", epoch_avg_val_loss, epoch)"
   ]
  },
  {
   "cell_type": "code",
   "execution_count": 14,
   "metadata": {},
   "outputs": [
    {
     "name": "stdout",
     "output_type": "stream",
     "text": [
      "0.24964507368572972\n"
     ]
    }
   ],
   "source": [
    "import statistics\n",
    "print (statistics.mean(all_val_loss[:-20:-1]))"
   ]
  },
  {
   "cell_type": "code",
   "execution_count": 15,
   "metadata": {
    "scrolled": false
   },
   "outputs": [
    {
     "data": {
      "image/png": "[encoded data removed]",
      "text/plain": [
       "<Figure size 600x400 with 1 Axes>"
      ]
     },
     "metadata": {},
     "output_type": "display_data"
    }
   ],
   "source": [
    "plt.plot(list(range(1, num_epochs + 1)), all_train_loss, label = 'Train')\n",
    "plt.plot(list(range(1, num_epochs + 1)), all_val_loss, label = 'Validation')\n",
    "plt.legend(loc=\"upper right\")\n",
    "plt.xlabel('No. of epochs')\n",
    "plt.ylabel('Loss')\n",
    "writer.flush()"
   ]
  },
  {
   "cell_type": "code",
   "execution_count": 16,
   "metadata": {},
   "outputs": [
    {
     "name": "stdout",
     "output_type": "stream",
     "text": [
      "0.2463295434912046\n"
     ]
    }
   ],
   "source": [
    "all_id = torch.empty(0).cuda()\n",
    "all_obs = torch.empty(0, output_size).cuda()\n",
    "all_pred = torch.empty(0, output_size).cuda()\n",
    "with torch.no_grad():\n",
    "    total_test_loss = 0.0\n",
    "    for i, (data_id, X_test, y_test, y_mask_test) in enumerate(test_loader):\n",
    "        data_id = data_id.cuda()\n",
    "        X_test = X_test.cuda().float()\n",
    "        y_test = y_test.cuda().float()\n",
    "        y_mask_test = y_mask_test.cuda().float()\n",
    "        \n",
    "        test_pred = forecast_model(X_test).cuda()\n",
    "        test_loss = criterion(y_test, test_pred, y_mask_test)\n",
    "        total_test_loss = total_test_loss + test_loss.item()\n",
    "        \n",
    "        all_id = torch.cat((all_id, data_id), 0)\n",
    "        all_obs = torch.cat((all_obs, y_test), 0)\n",
    "        all_pred = torch.cat((all_pred, test_pred), 0)\n",
    "        \n",
    "        \n",
    "    avg_test_loss = total_test_loss/len(test_loader)\n",
    "    print(avg_test_loss)"
   ]
  },
  {
   "cell_type": "code",
   "execution_count": 17,
   "metadata": {
    "scrolled": true
   },
   "outputs": [],
   "source": [
    "#all_pred.shape"
   ]
  },
  {
   "cell_type": "code",
   "execution_count": 18,
   "metadata": {},
   "outputs": [
    {
     "name": "stdout",
     "output_type": "stream",
     "text": [
      "(300, 6)\n",
      "(300, 6)\n"
     ]
    }
   ],
   "source": [
    "pred_out_np = all_pred.cpu().numpy()\n",
    "obs_out_np = all_obs.cpu().numpy()\n",
    "print(pred_out_np.shape)\n",
    "print(obs_out_np.shape)\n",
    "df_out_mean = df_np_mean[7:13]\n",
    "df_out_std = df_np_std[7:13]\n",
    "final_pred = pred_out_np * df_out_std + df_out_mean\n",
    "final_observed = obs_out_np * df_out_std + df_out_mean"
   ]
  },
  {
   "cell_type": "code",
   "execution_count": 19,
   "metadata": {},
   "outputs": [],
   "source": [
    "out_obs_data = pd.DataFrame({'SO2  ': final_observed[:, 0],\n",
    "                         'NO2': final_observed[:, 1],\n",
    "                         'CO': final_observed[:, 2],\n",
    "                         'O3': final_observed[:, 3],\n",
    "                         'PM2.5': final_observed[:, 4], \n",
    "                         'PM10': final_observed[:, 5]})"
   ]
  },
  {
   "cell_type": "code",
   "execution_count": 20,
   "metadata": {},
   "outputs": [],
   "source": [
    "filename_obs = 'plot_obs.xlsx'\n",
    "out_obs_data.to_excel(filename_obs, index=True)"
   ]
  },
  {
   "cell_type": "code",
   "execution_count": 21,
   "metadata": {},
   "outputs": [],
   "source": [
    "out_pred_data = pd.DataFrame({'SO2  ': final_pred[:, 0],\n",
    "                         'NO2': final_pred[:, 1],\n",
    "                         'CO': final_pred[:, 2],\n",
    "                         'O3': final_pred[:, 3],\n",
    "                         'PM2.5': final_pred[:, 4], \n",
    "                         'PM10': final_pred[:, 5]})"
   ]
  },
  {
   "cell_type": "code",
   "execution_count": 22,
   "metadata": {},
   "outputs": [],
   "source": [
    "filename_pred = 'plot_pred.xlsx'\n",
    "out_pred_data.to_excel(filename_pred, index=True)"
   ]
  },
  {
   "cell_type": "code",
   "execution_count": null,
   "metadata": {},
   "outputs": [],
   "source": []
  }
 ],
 "metadata": {
  "kernelspec": {
   "display_name": "Python 3",
   "language": "python",
   "name": "python3"
  },
  "language_info": {
   "codemirror_mode": {
    "name": "ipython",
    "version": 3
   },
   "file_extension": ".py",
   "mimetype": "text/x-python",
   "name": "python",
   "nbconvert_exporter": "python",
   "pygments_lexer": "ipython3",
   "version": "3.8.3"
  }
 },
 "nbformat": 4,
 "nbformat_minor": 4
}
